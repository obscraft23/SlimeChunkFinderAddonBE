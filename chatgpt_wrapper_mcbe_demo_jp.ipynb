{
  "cells": [
    {
      "cell_type": "markdown",
      "metadata": {
        "id": "view-in-github",
        "colab_type": "text"
      },
      "source": [
        "<a href=\"https://colab.research.google.com/github/obscraft23/SlimeChunkFinderAddonBE/blob/master/chatgpt_wrapper_mcbe_demo_jp.ipynb\" target=\"_parent\"><img src=\"https://colab.research.google.com/assets/colab-badge.svg\" alt=\"Open In Colab\"/></a>"
      ]
    },
    {
      "cell_type": "markdown",
      "metadata": {
        "id": "LOaeNTVmZUoF"
      },
      "source": [
        "**TL;DL**\n",
        "\n",
        "このnotebookはminecraft統合版からwebsocketでchatgptを使うためのサーバーを走らせるためのものです。以下の指示に従って操作するだけで、特別な環境を用意しなくても、簡単にマイクラ内からchatgptが使えるようになります。\n",
        "\n",
        "最終更新: 2023-02-24"
      ]
    },
    {
      "cell_type": "markdown",
      "metadata": {
        "id": "0wiEBHk7q96k"
      },
      "source": [
        "**注意事項（必読）**\n",
        "\n",
        "+ このノートブックの使用は使用者の自己責任で行ってください。作成者のobscraft23は一切の責任を負いません。\n",
        "\n",
        "+ chatgptのアカウントを入力する必要があります。このノートブック自体にそうした情報を収集するようなプログラムは当然含まれていませんが、chatgptに接続するにあたり、third-party製のreverse proxyサーバーを経由します。この点に留意してください。詳しい情報は https://github.com/transitive-bullshit/chatgpt-api#reverse-proxy を参照。\n",
        "心配な人はchatgptの有料アカウントではなく、無料アカウントを使用することでリスクを抑えられます。\n",
        "\n",
        "+ chatgptは2023年2月現在preview段階で、仕様も日・週単位で変わることがあります。このノートブックも恒久的に使用できるとは限りません。可能であれば以下のgithubリポジトリを通してupdateします。\n",
        "<br>https://github.com/obscraft23/chatgpt-mcbe\n",
        "\n",
        "+ [MITライセンス](https://github.com/obscraft23/chatgpt-mcbe/blob/master/LICENSE)を適用します。クレジット表記を行えば、複製・再配布・改変等は自由です。\n",
        "\n"
      ]
    },
    {
      "cell_type": "markdown",
      "metadata": {
        "id": "oC82TMxNakEl"
      },
      "source": [
        "**必要なもの**\n",
        "+ **マインクラフト統合版**\n",
        "<br>バージョン依存性は特にないと思いますが、動作確認は1.19.62で行っています。\n",
        "<br>スマホ単体でも動きます（iOSで動作テストしました）。\n",
        "<br>/connect コマンドを使うのでBDSは不可です。\n",
        "\n",
        "+ **googleアカウント**\n",
        "<br>このnotebookを実行するのに必要です。googleにログインせずにこのnotebookを開いた場合、はgoogleアカウントにログイン後に再度開きなおしてください。\n",
        "\n",
        "+ **chatgptのアカウント**\n",
        "<br>chatgptのアカウントをまだ持っていない人は以下のサイトから\"Sing up\"にアクセスして無料アカウントを作成してください。\n",
        "<br>https://chat.openai.com/auth/login\n",
        "<br>(注意)必ずメールアドレスから新規作成してください。**Google及びMicrosoftアカウント連携は不可です**。\n",
        "<br>SMS認証が求められるので携帯電話番号が必要です。\n",
        "\n",
        "\n"
      ]
    },
    {
      "cell_type": "markdown",
      "metadata": {
        "id": "qFaYqr5HcegO"
      },
      "source": [
        "**アカウント情報の入力**\n",
        "\n",
        "以下にchatgptの登録メールアドレスとパスワードを入力してください。\n",
        "繰り返しになりますが、入力は自己責任です。"
      ]
    },
    {
      "cell_type": "markdown",
      "metadata": {
        "id": "VhINRVHGi0PM"
      },
      "source": [
        "登録メールアドレス"
      ]
    },
    {
      "cell_type": "code",
      "execution_count": null,
      "metadata": {
        "cellView": "form",
        "id": "LfrReIAMiLAG"
      },
      "outputs": [],
      "source": [
        "input_email_address = \"example@gmail.com\" #@param {type:\"string\"}"
      ]
    },
    {
      "cell_type": "markdown",
      "metadata": {
        "id": "eXKhdPwMi5Ks"
      },
      "source": [
        "パスワード"
      ]
    },
    {
      "cell_type": "code",
      "execution_count": null,
      "metadata": {
        "cellView": "form",
        "id": "kDduNJUPiYEM"
      },
      "outputs": [],
      "source": [
        "input_password = \"examplepassward\" #@param {type:\"string\"}"
      ]
    },
    {
      "cell_type": "markdown",
      "metadata": {
        "id": "hYCigOU2aMFM"
      },
      "source": [
        "### **サーバーの起動**\n",
        "\n",
        "ここまで完了したら、上のメニューから\n",
        "「ランタイム」＞「すべてのセルを実行」を押してください。\n",
        "\n",
        "「警告: このノートブックは Google が作成したものではありません。」という警告が出た場合は「このまま実行」を押してください。\n",
        "\n",
        "エラーが出ずに「start server」下に以下のような文が表示されたら、準備完了です。\n",
        "\n",
        "```\n",
        "サーバーを起動したら以下のコマンドをマイクラ内のチャットに入力してください。\n",
        "（コマンド）\n",
        "\n",
        "-- log --\n",
        "Ready 0.0.0.0:19132\n",
        "```\n",
        "\n",
        "マイクラを起動して指示されたコマンドをチャットに入力してください。\n"
      ]
    },
    {
      "cell_type": "code",
      "execution_count": null,
      "metadata": {
        "cellView": "form",
        "id": "l2UggolYRj-t"
      },
      "outputs": [],
      "source": [
        "#@title debug (you can ignore)\n",
        "debug = False\n",
        "if debug:\n",
        "  import logging\n",
        "  requests_log = logging.getLogger(\"urllib3\")\n",
        "  requests_log.setLevel(logging.DEBUG)\n",
        "  import http\n",
        "  http.client.HTTPConnection.debuglevel=1"
      ]
    },
    {
      "cell_type": "code",
      "execution_count": null,
      "metadata": {
        "cellView": "form",
        "id": "clDX5s9oDXkX"
      },
      "outputs": [],
      "source": [
        "#@title additional packages\n",
        "import os\n",
        "if not os.path.exists(\"ngrok\"):\n",
        "  cmdres = os.system(\"wget https://bin.equinox.io/c/4VmDzA7iaHb/ngrok-stable-linux-amd64.zip\")\n",
        "  cmdres = os.system(\"unzip ngrok-stable-linux-amd64.zip\")\n",
        "\n",
        "cmdres = os.system(\"pip install websockets\")\n",
        "cmdres = os.system(\"pip install nest_asyncio\")\n",
        "cmdres = os.system(\"pip install git+https://github.com/acheong08/OpenAIAuth.git\")"
      ]
    },
    {
      "cell_type": "code",
      "execution_count": null,
      "metadata": {
        "cellView": "form",
        "id": "J6DNqCLiQP-O"
      },
      "outputs": [],
      "source": [
        "#@title get access token\n",
        "import OpenAIAuth\n",
        "myobj = OpenAIAuth.Authenticator(email_address=input_email_address,password=input_password)\n",
        "myobj.begin()\n",
        "access_token = myobj.get_access_token()"
      ]
    },
    {
      "cell_type": "code",
      "execution_count": null,
      "metadata": {
        "id": "EM2wlI80DswF",
        "cellView": "form"
      },
      "outputs": [],
      "source": [
        "#@title websocket server object\n",
        "import asyncio\n",
        "import sys\n",
        "import json\n",
        "import uuid\n",
        "import websockets\n",
        "from websockets import serve\n",
        "import nest_asyncio\n",
        "nest_asyncio.apply()\n",
        "\n",
        "class WsClient:\n",
        "  def start(self,host=\"0.0.0.0\", port=19132):\n",
        "    self.host = host\n",
        "    self.port = port\n",
        "    self.ws = websockets.serve(self.receive, self.host, self.port)\n",
        "    self.loop = asyncio.get_event_loop()\n",
        "    self.loop.run_until_complete(self.ws)\n",
        "    self.event_ready()\n",
        "    self.loop.run_forever()\n",
        "\n",
        "  async def receive(self, websocket, path):\n",
        "    self.ws = websocket\n",
        "    await self.listen_event()\n",
        "    await self.event(\"connect\")  # self.event_connect()\n",
        "    try:\n",
        "      while True:\n",
        "        data = await self.ws.recv()\n",
        "        msg = json.loads(data)\n",
        "        await self.parse_command(msg)\n",
        "    except (\n",
        "        websockets.exceptions.ConnectionClosedOK,\n",
        "        websockets.exceptions.ConnectionClosedError,\n",
        "        websockets.exceptions.ConnectionClosed):\n",
        "      await self.event(\"disconnect\")  # self.event_disconnect()\n",
        "      sys.exit()\n",
        "\n",
        "  async def listen_event(self):\n",
        "    for event in self.events:\n",
        "      await self.ws.send(json.dumps({\n",
        "        \"body\": {\"eventName\": event},\n",
        "        \"header\": {\n",
        "          \"requestId\": \"00000000-0000-0000-0000-000000000000\",\n",
        "          \"messagePurpose\": \"subscribe\",\n",
        "          \"version\": 1,\n",
        "          \"messageType\": \"commandRequest\"}\n",
        "        }))\n",
        "      \n",
        "  async def parse_command(self, message):\n",
        "    if message[\"header\"][\"messagePurpose\"] == \"event\":\n",
        "      event_name = message[\"header\"][\"eventName\"]\n",
        "      await self.event(event_name, message)\n",
        "      if message[\"header\"][\"eventName\"] == \"PlayerMessage\" and message[\"body\"][\"type\"] == 'chat':\n",
        "        pass\n",
        "    elif message[\"header\"][\"messagePurpose\"] == \"error\":\n",
        "      await self.event(\"error\", message)\n",
        "\n",
        "  async def command(self, cmd):\n",
        "    uuid4 = str(uuid.uuid4())\n",
        "    cmd_json = json.dumps({\n",
        "      \"body\": {\"origin\": {\"type\": \"player\"},\"commandLine\": cmd,\"version\": 1},\n",
        "      \"header\": {\"requestId\": uuid4,\"messagePurpose\": \"commandRequest\",\"version\": 1,\"messageType\": \"commandRequest\"}\n",
        "      })\n",
        "    \n",
        "    await self.ws.send(cmd_json)\n",
        "    data = await self.ws.recv()\n",
        "    msg = json.loads(data)\n",
        "    if msg[\"header\"][\"messagePurpose\"] == \"commandResponse\" and msg[\"header\"][\"requestId\"] == uuid4:\n",
        "      return msg\n",
        "    else:\n",
        "      return None\n",
        "\n",
        "  async def event(self, name, *args):\n",
        "    func = f\"self.event_{name}\"\n",
        "    \n",
        "    if args == ():\n",
        "      try:\n",
        "        await eval(f\"{func}()\")\n",
        "      except NameError as e:\n",
        "        print(f\"event_{name}\")\n",
        "        \n",
        "    else:\n",
        "      try:\n",
        "        await eval(f\"{func}({args})\")\n",
        "      except NameError as e:\n",
        "        print(f\"event_{name}\")\n",
        "\n",
        "  ###\n",
        "  async def event_connect(self):\n",
        "    mcresptext = \"§a[Server]§r welcome!\"\n",
        "    await self.command('tellraw @a {\"rawtext\":[{\"text\":\"'+mcresptext+'\"}]} ')\n",
        "    print(\"Connected!\")\n",
        "\n",
        "  async def event_disconnect(self):\n",
        "    print(\"disconnect!\")\n",
        "\n",
        "  def event_ready(self):\n",
        "    print(f\"Ready {self.host}:{self.port}\")\n",
        "\n",
        "    self.events = [\"PlayerMessage\", \"PlayerDied\"]\n",
        "\n",
        "  async def event_PlayerMessage(self, event):\n",
        "    rawtext = event[0]['body']['message']\n",
        "    print(\"[Input text] \"+rawtext)\n",
        "    resptext = getChatgpt(rawtext)\n",
        "    print(\"[ChatGPT] \"+resptext)\n",
        "    mcresptext = \"§d[ChatGPT]§r \"+resptext\n",
        "    await self.command('tellraw @a {\"rawtext\":[{\"text\":\"'+mcresptext+'\"}]} ')\n",
        "\n",
        "  async def event_PlayerDied(self, event):\n",
        "    pass\n",
        "    #print(event)"
      ]
    },
    {
      "cell_type": "code",
      "execution_count": null,
      "metadata": {
        "cellView": "form",
        "id": "2EPU7jPIEg3W"
      },
      "outputs": [],
      "source": [
        "#@title getChatgpt function\n",
        "def getChatgpt(inputtext):\n",
        "\n",
        "  import uuid\n",
        "  import requests\n",
        "  import json\n",
        "  import os\n",
        "  import re\n",
        "  #import time\n",
        "\n",
        "  if os.path.exists('.mcservercache/cid.log'):\n",
        "    with open('.mcservercache/cid.log','r') as f:\n",
        "      cid = f.read()\n",
        "  \n",
        "  else:\n",
        "    cid = None\n",
        "  \n",
        "  if os.path.exists('.mcservercache/mid.log'):\n",
        "    with open('.mcservercache/mid.log','r') as f:\n",
        "      mid = f.read()\n",
        "  \n",
        "  else:\n",
        "    mid = None\n",
        "\n",
        "  headers = {\n",
        "    'Authorization': 'Bearer {}'.format(access_token),\n",
        "    'Accept': 'text/event-stream',\n",
        "    'Content-Type': \"application/json\",\n",
        "    \"Referer\": \"https://chat.openai.com/chat\",\n",
        "    \"Origin\": \"https://chat.openai.com\",\n",
        "    \"User-Agent\": 'Mozilla/5.0 (Macintosh; Intel Mac OS X 10_15_7) AppleWebKit/605.1.15 (KHTML, like Gecko) Version/16.1 Safari/605.1.15',\n",
        "    \"OpenAI-Client-Id\": 'chat'}\n",
        "  \n",
        "  if mid != None and cid != None:\n",
        "    payload = {\n",
        "      \"action\":\"next\",\n",
        "      \"conversation_id\":cid,\n",
        "      \"messages\":[{\"id\":str(uuid.uuid4()),\n",
        "                  \"role\": 'user',\n",
        "                  \"content\": {\"content_type\": 'text',\"parts\": [inputtext]}\n",
        "                  }],\n",
        "      \"model\": \"text-davinci-002-render-sha\",\n",
        "      \"parent_message_id\":mid,\n",
        "    }\n",
        "    \n",
        "  else:\n",
        "    payload = {\n",
        "      \"action\":\"next\",\n",
        "      \"messages\":[{\"id\":str(uuid.uuid4()),\n",
        "                  \"role\": 'user',\n",
        "                  \"content\": {\"content_type\": 'text',\"parts\": [inputtext]}\n",
        "                    }],\n",
        "      \"model\": \"text-davinci-002-render-sha\",\n",
        "      \"parent_message_id\":str(uuid.uuid4()),\n",
        "    }\n",
        "  \n",
        "  url = \"https://chatgpt.duti.tech/api/conversation\"\n",
        "\n",
        "  res = requests.post(url, data=json.dumps(payload), headers=headers)\n",
        "\n",
        "  try:\n",
        "    response_text = res.text.replace(\"data: [DONE]\", \"\")\n",
        "    data = re.findall(r'data: (.*)', response_text)[-1]\n",
        "    as_json = json.loads(data)\n",
        "    cid =  as_json['conversation_id']\n",
        "    mid = as_json['message']['id']\n",
        "    outputttest = as_json['message']['content']['parts'][0]\n",
        "\n",
        "  except:\n",
        "    outputttest = json.loads(res.text)['detail']\n",
        "\n",
        "  if not os.path.exists('./.mcservercache'):\n",
        "    os.mkdir('./.mcservercache')\n",
        "\n",
        "  if cid!=None:\n",
        "    with open('.mcservercache/cid.log','w') as f:\n",
        "      f.write(cid)\n",
        "  \n",
        "  if mid!=None:\n",
        "    with open('.mcservercache/mid.log','w') as f:\n",
        "      f.write(mid)\n",
        "  \n",
        "  return outputttest"
      ]
    },
    {
      "cell_type": "code",
      "execution_count": null,
      "metadata": {
        "cellView": "form",
        "id": "rhcb266cEG_9"
      },
      "outputs": [],
      "source": [
        "#@title establish ngrok\n",
        "import time\n",
        "get_ipython().system_raw('./ngrok http 19132 &')\n",
        "time.sleep(5)"
      ]
    },
    {
      "cell_type": "markdown",
      "metadata": {
        "id": "1ZQUo5ajjp61"
      },
      "source": [
        "### サーバー"
      ]
    },
    {
      "cell_type": "code",
      "execution_count": null,
      "metadata": {
        "id": "dgllC_ZjEUa1",
        "cellView": "form"
      },
      "outputs": [],
      "source": [
        "#@title start server\n",
        "import requests\n",
        "import json\n",
        "res = requests.get(\"http://localhost:4040/api/tunnels\")\n",
        "json_str = res.content.decode(\"utf-8\")\n",
        "json_dict = json.loads(json_str)\n",
        "wsaddress = json_dict['tunnels'][0]['public_url'].replace('https://','ws://').replace('http://','ws://')\n",
        "print(\"サーバーを起動したら以下のコマンドをマイクラ内のチャットに入力してください。\")\n",
        "print(\"/connect \"+wsaddress)\n",
        "print(\"\")\n",
        "print(\"-- log --\")\n",
        "myobj = WsClient()\n",
        "myobj.start(host=\"0.0.0.0\",port=19132)"
      ]
    },
    {
      "cell_type": "markdown",
      "metadata": {
        "id": "X67CY8W7mHwF"
      },
      "source": [
        "**マイクラ内の操作**\n",
        "\n",
        "コマンドをマイクラ内から実行し、\n",
        "\n",
        "[Server] welcome!\n",
        "\n",
        "と応答が帰ってきたら、接続成功です。以後チャットに入力した文章は、chatgptに送信され、chatgptと対話できるようになります。"
      ]
    },
    {
      "cell_type": "markdown",
      "metadata": {
        "id": "QcB8kBcVn458"
      },
      "source": [
        "**注意**\n",
        "\n",
        "+ chatgptからの応答は時間がかかる場合や返答自体が返ってこない場合があります。入力した文章の内容やchatgpt全体の使用状況に依存します。\n",
        "\n",
        "+ 短い時間にたくさんの対話を行うと無料アカウントの場合、一定時間使用できなくなる場合があります。\n",
        "\n",
        "+ 返答が長い場合途中で終わってしまうことがあります。その場合は「続けて」などと入力することで、続きを聞くことができます。\n",
        "\n",
        "+ 何もしなければ、以前の会話状態を記憶したまま対話が進行します。会話をリセットしたい場合は以下のセルを実行してください。（一度サーバーを切断する必要があります）"
      ]
    },
    {
      "cell_type": "code",
      "execution_count": null,
      "metadata": {
        "id": "SbULJ2_rn6KM"
      },
      "outputs": [],
      "source": [
        "#@title 会話のリセット\n",
        "%rm -rf .mcservercache"
      ]
    },
    {
      "cell_type": "markdown",
      "metadata": {
        "id": "m-ix4Zx0oY5T"
      },
      "source": [
        "**終了・再起動**\n",
        "\n",
        "+ サーバーを切断するには上のメニューから 「ランタイム」＞「ランタイムを再起動」を押してください。\n",
        "\n",
        "+ サーバーを再起動する場合は、もう一度上のメニューから 「ランタイム」＞「すべてのセルを実行」を押してください。**websocketサーバーアドレスは毎回変わるので注意してください。**\n",
        "\n",
        "+ このノートブックの使用をやめる場合は、「ランタイム」＞「ランタイムを接続解除してから削除」を押してから、ページを離れてください。\n",
        "\n",
        "**トラブルシューティング**\n",
        "\n",
        "+ よくあるエラー原因\n",
        "  - chatgptのアカウント情報が間違っている\n",
        "  - chatgpt側でエラーが起きている（No conversation foundなど）\n",
        "\n",
        "+ 何かトラブルやエラーが発生した場合は、「ランタイム」＞「ランタイムを再起動」または「ランタイム」＞「ランタイムを接続解除してから削除」をしてから、再度「ランタイム」＞「すべてのセルを実行」を押してみると解決することがあります。\n",
        "\n",
        "+ chatgpt側で問題が起きている（短時間にたくさん会話するなど）場合は、時間を空けて試す以外解決方法がありません。"
      ]
    }
  ],
  "metadata": {
    "colab": {
      "provenance": [],
      "collapsed_sections": [
        "hYCigOU2aMFM"
      ],
      "authorship_tag": "ABX9TyOw6Ky3+Id7Fek6pLwDvBVv",
      "include_colab_link": true
    },
    "kernelspec": {
      "display_name": "Python 3",
      "name": "python3"
    },
    "language_info": {
      "name": "python"
    }
  },
  "nbformat": 4,
  "nbformat_minor": 0
}